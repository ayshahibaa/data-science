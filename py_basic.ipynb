{
  "nbformat": 4,
  "nbformat_minor": 0,
  "metadata": {
    "colab": {
      "name": "py basic.ipynb",
      "provenance": [],
      "authorship_tag": "ABX9TyMqUlNf738THgb6bOJNzD+v",
      "include_colab_link": true
    },
    "kernelspec": {
      "name": "python3",
      "display_name": "Python 3"
    },
    "language_info": {
      "name": "python"
    }
  },
  "cells": [
    {
      "cell_type": "markdown",
      "metadata": {
        "id": "view-in-github",
        "colab_type": "text"
      },
      "source": [
        "<a href=\"https://colab.research.google.com/github/ayshahibaa/data-science/blob/main/py_basic.ipynb\" target=\"_parent\"><img src=\"https://colab.research.google.com/assets/colab-badge.svg\" alt=\"Open In Colab\"/></a>"
      ]
    },
    {
      "cell_type": "code",
      "execution_count": null,
      "metadata": {
        "id": "MtCTck8Jl8Kh"
      },
      "outputs": [],
      "source": [
        "# 29-07-2022 - python"
      ]
    },
    {
      "cell_type": "code",
      "source": [
        "a = input('What is your favourite season?')\n",
        "if (a=='summer'):\n",
        "  print('so cool')\n",
        "elif (a=='winter'):\n",
        "  print('sweater weather')\n",
        "elif (a=='fall'):\n",
        "  print('Goblin vibes')\n",
        "else:\n",
        "  print('Other')"
      ],
      "metadata": {
        "colab": {
          "base_uri": "https://localhost:8080/"
        },
        "id": "PCjNing2mA5T",
        "outputId": "0c7cf18c-2cd4-439d-f79e-26f1951bf479"
      },
      "execution_count": 5,
      "outputs": [
        {
          "output_type": "stream",
          "name": "stdout",
          "text": [
            "What is your favourite season?summer\n",
            "so cool\n"
          ]
        }
      ]
    },
    {
      "cell_type": "code",
      "source": [
        "i=0\n",
        "while(i<10):\n",
        "  print(i,end='')\n",
        "  i=i+1\n",
        "i=0\n",
        "while(i<10):\n",
        "  print(i,end=' ')\n",
        "  i=i+1"
      ],
      "metadata": {
        "colab": {
          "base_uri": "https://localhost:8080/"
        },
        "id": "NL9YYbwdpVAE",
        "outputId": "2752eb8d-b262-48cc-cec5-8e50e3a58664"
      },
      "execution_count": 13,
      "outputs": [
        {
          "output_type": "stream",
          "name": "stdout",
          "text": [
            "01234567890 1 2 3 4 5 6 7 8 9 "
          ]
        }
      ]
    },
    {
      "cell_type": "code",
      "source": [
        "a=0\n",
        "while(a<=10):\n",
        "  print(f'2 x {a} = {2*a}')\n",
        "  a=a+1"
      ],
      "metadata": {
        "colab": {
          "base_uri": "https://localhost:8080/"
        },
        "id": "5os0XVsmv2qR",
        "outputId": "924d01af-fb2e-49a0-c331-e37e23d2ba1e"
      },
      "execution_count": 22,
      "outputs": [
        {
          "output_type": "stream",
          "name": "stdout",
          "text": [
            "2 x 0 = 0\n",
            "2 x 1 = 2\n",
            "2 x 2 = 4\n",
            "2 x 3 = 6\n",
            "2 x 4 = 8\n",
            "2 x 5 = 10\n",
            "2 x 6 = 12\n",
            "2 x 7 = 14\n",
            "2 x 8 = 16\n",
            "2 x 9 = 18\n",
            "2 x 10 = 20\n"
          ]
        }
      ]
    },
    {
      "cell_type": "code",
      "source": [
        "for i in range(0,11,2): #0,11 range and 2 increment\n",
        "  print(i)\n",
        "for i in range(11,0,-2):\n",
        "  print(i)"
      ],
      "metadata": {
        "colab": {
          "base_uri": "https://localhost:8080/"
        },
        "id": "zS-1pe98xlaK",
        "outputId": "56af75dd-21c2-497d-bf8b-ae460ae99ca5"
      },
      "execution_count": 32,
      "outputs": [
        {
          "output_type": "stream",
          "name": "stdout",
          "text": [
            "0\n",
            "2\n",
            "4\n",
            "6\n",
            "8\n",
            "10\n",
            "11\n",
            "9\n",
            "7\n",
            "5\n",
            "3\n",
            "1\n"
          ]
        }
      ]
    },
    {
      "cell_type": "code",
      "source": [
        "# three's table using for\n",
        "\n",
        "for i in range(0,11):\n",
        "  print('3 x ',i,' = ',3*i)"
      ],
      "metadata": {
        "colab": {
          "base_uri": "https://localhost:8080/"
        },
        "id": "E77BLZ0FzFGn",
        "outputId": "928a64d2-8db9-4695-9d55-3fa7acfd881b"
      },
      "execution_count": 34,
      "outputs": [
        {
          "output_type": "stream",
          "name": "stdout",
          "text": [
            "3 x  0  =  0\n",
            "3 x  1  =  3\n",
            "3 x  2  =  6\n",
            "3 x  3  =  9\n",
            "3 x  4  =  12\n",
            "3 x  5  =  15\n",
            "3 x  6  =  18\n",
            "3 x  7  =  21\n",
            "3 x  8  =  24\n",
            "3 x  9  =  27\n",
            "3 x  10  =  30\n"
          ]
        }
      ]
    },
    {
      "cell_type": "code",
      "source": [
        "# user defined functions\n",
        "\n",
        "def add():\n",
        "  a= int(input('enter'))\n",
        "  b= int(input('enter'))\n",
        "  print('sum = ',a+b)"
      ],
      "metadata": {
        "id": "gHv4ewKkzo_F"
      },
      "execution_count": 45,
      "outputs": []
    },
    {
      "cell_type": "code",
      "source": [
        "add()\n",
        "5"
      ],
      "metadata": {
        "colab": {
          "base_uri": "https://localhost:8080/"
        },
        "id": "5g1H4KL20Yro",
        "outputId": "8cf5fa18-80f6-4970-f351-de8da159765d"
      },
      "execution_count": 46,
      "outputs": [
        {
          "output_type": "stream",
          "name": "stdout",
          "text": [
            "enter6\n",
            "enter6\n",
            "sum =  12\n"
          ]
        },
        {
          "output_type": "execute_result",
          "data": {
            "text/plain": [
              "5"
            ]
          },
          "metadata": {},
          "execution_count": 46
        }
      ]
    },
    {
      "cell_type": "code",
      "source": [
        "def add(a,b):\n",
        "  sum = a+b\n",
        "  print(sum)\n",
        "  \n",
        "add(1,2)\n"
      ],
      "metadata": {
        "colab": {
          "base_uri": "https://localhost:8080/"
        },
        "id": "q10wb_u100TO",
        "outputId": "f7dddf0c-5619-41f3-e1e7-effc689d8201"
      },
      "execution_count": 49,
      "outputs": [
        {
          "output_type": "stream",
          "name": "stdout",
          "text": [
            "3\n"
          ]
        }
      ]
    },
    {
      "cell_type": "code",
      "source": [
        "\n"
      ],
      "metadata": {
        "colab": {
          "base_uri": "https://localhost:8080/"
        },
        "id": "pXevaSbt08Gd",
        "outputId": "0f34d0f9-9e52-4f75-da24-07fca2d34e42"
      },
      "execution_count": 40,
      "outputs": [
        {
          "output_type": "stream",
          "name": "stdout",
          "text": [
            "3\n"
          ]
        }
      ]
    },
    {
      "cell_type": "code",
      "source": [
        "#creating new file\n",
        "%%writefile abc.txt\n",
        "fdhvaehfvbxcnm"
      ],
      "metadata": {
        "colab": {
          "base_uri": "https://localhost:8080/"
        },
        "id": "TalUryTW0_Vd",
        "outputId": "cc9bfa96-29ee-4761-9567-e2980dd43ed5"
      },
      "execution_count": 57,
      "outputs": [
        {
          "output_type": "stream",
          "name": "stdout",
          "text": [
            "Overwriting abc.txt\n"
          ]
        }
      ]
    },
    {
      "cell_type": "code",
      "source": [
        ""
      ],
      "metadata": {
        "id": "IbpWfw6g5wsx"
      },
      "execution_count": null,
      "outputs": []
    },
    {
      "cell_type": "code",
      "source": [
        "%%writefile xyz.py \n",
        "print('hello')"
      ],
      "metadata": {
        "colab": {
          "base_uri": "https://localhost:8080/"
        },
        "id": "eCbauWxl3HYP",
        "outputId": "fe4767cd-fa51-4700-ac28-0eb32fbf3707"
      },
      "execution_count": 56,
      "outputs": [
        {
          "output_type": "stream",
          "name": "stdout",
          "text": [
            "Overwriting xyz.py\n"
          ]
        }
      ]
    },
    {
      "cell_type": "code",
      "source": [
        "#seqences: to store same or diff datatypes - list,tuple,set,dictionary\n",
        "#list is mutable: can be changed using programming\n",
        "#.append('') : add element in list\n",
        "#.insert(index,'element') : add in index pos\n",
        "#.remove('') : delete\n",
        "#.pop(index) : delete from index\n",
        "#.reverse() : reverse order of index\n",
        "#.extend(list_name): conatenation of lists"
      ],
      "metadata": {
        "id": "EzTNRN5l5xrg"
      },
      "execution_count": null,
      "outputs": []
    },
    {
      "cell_type": "code",
      "source": [
        "a = [1,2,3]\n",
        "b=[2,'abb',3]\n",
        "type(a)\n",
        "type(b)"
      ],
      "metadata": {
        "colab": {
          "base_uri": "https://localhost:8080/"
        },
        "id": "3ebLOS4W59Zy",
        "outputId": "08bb122a-13ab-43fa-8ddd-93d5c5cda0b8"
      },
      "execution_count": 60,
      "outputs": [
        {
          "output_type": "execute_result",
          "data": {
            "text/plain": [
              "list"
            ]
          },
          "metadata": {},
          "execution_count": 60
        }
      ]
    },
    {
      "cell_type": "code",
      "source": [
        "f = ['a','b']"
      ],
      "metadata": {
        "id": "DJn919g-59kS"
      },
      "execution_count": 121,
      "outputs": []
    },
    {
      "cell_type": "code",
      "source": [
        "f.append('c')"
      ],
      "metadata": {
        "id": "0EJJxMqq59ux"
      },
      "execution_count": 125,
      "outputs": []
    },
    {
      "cell_type": "code",
      "source": [
        "f\n"
      ],
      "metadata": {
        "colab": {
          "base_uri": "https://localhost:8080/"
        },
        "id": "DSNPd9Wm595T",
        "outputId": "48b2b4d6-7423-4789-8aab-bc3e0b13bc1a"
      },
      "execution_count": 126,
      "outputs": [
        {
          "output_type": "execute_result",
          "data": {
            "text/plain": [
              "['a', 'b', 'kkk', 'c', 'c']"
            ]
          },
          "metadata": {},
          "execution_count": 126
        }
      ]
    },
    {
      "cell_type": "code",
      "source": [
        "f.insert(2,'kkk')"
      ],
      "metadata": {
        "id": "xq1l9VVL6-hT"
      },
      "execution_count": 127,
      "outputs": []
    },
    {
      "cell_type": "code",
      "source": [
        "f.remove('c')"
      ],
      "metadata": {
        "id": "qKsOFkL57OON"
      },
      "execution_count": 128,
      "outputs": []
    },
    {
      "cell_type": "code",
      "source": [
        ""
      ],
      "metadata": {
        "id": "4yh_SEMn7hTO"
      },
      "execution_count": null,
      "outputs": []
    },
    {
      "cell_type": "code",
      "source": [
        "f"
      ],
      "metadata": {
        "colab": {
          "base_uri": "https://localhost:8080/"
        },
        "id": "CX7JTkLn7GRS",
        "outputId": "948c1426-c166-4fdc-e83d-b478fb607363"
      },
      "execution_count": 129,
      "outputs": [
        {
          "output_type": "execute_result",
          "data": {
            "text/plain": [
              "['a', 'b', 'kkk', 'kkk', 'c']"
            ]
          },
          "metadata": {},
          "execution_count": 129
        }
      ]
    },
    {
      "cell_type": "code",
      "source": [
        "f.pop(2)"
      ],
      "metadata": {
        "colab": {
          "base_uri": "https://localhost:8080/",
          "height": 35
        },
        "id": "C6HgmjGO7iR2",
        "outputId": "bacd3620-d378-4476-899e-2d4bc6569cb2"
      },
      "execution_count": 130,
      "outputs": [
        {
          "output_type": "execute_result",
          "data": {
            "text/plain": [
              "'kkk'"
            ],
            "application/vnd.google.colaboratory.intrinsic+json": {
              "type": "string"
            }
          },
          "metadata": {},
          "execution_count": 130
        }
      ]
    },
    {
      "cell_type": "code",
      "source": [
        "f\n"
      ],
      "metadata": {
        "colab": {
          "base_uri": "https://localhost:8080/"
        },
        "id": "B4xYrOyT7nbh",
        "outputId": "960f7472-67ba-468a-da8e-4ac1a508517f"
      },
      "execution_count": 131,
      "outputs": [
        {
          "output_type": "execute_result",
          "data": {
            "text/plain": [
              "['a', 'b', 'kkk', 'c']"
            ]
          },
          "metadata": {},
          "execution_count": 131
        }
      ]
    },
    {
      "cell_type": "code",
      "source": [
        "f.reverse()"
      ],
      "metadata": {
        "id": "6r_245CS7zOx"
      },
      "execution_count": 132,
      "outputs": []
    },
    {
      "cell_type": "code",
      "source": [
        "f"
      ],
      "metadata": {
        "colab": {
          "base_uri": "https://localhost:8080/"
        },
        "id": "ZyzkCP5B710h",
        "outputId": "45f9d725-e294-44bb-e464-b6b3612028da"
      },
      "execution_count": 133,
      "outputs": [
        {
          "output_type": "execute_result",
          "data": {
            "text/plain": [
              "['c', 'kkk', 'b', 'a']"
            ]
          },
          "metadata": {},
          "execution_count": 133
        }
      ]
    },
    {
      "cell_type": "code",
      "source": [
        "v = ['x','t','m']\n",
        "\n",
        "f.extend(v)"
      ],
      "metadata": {
        "id": "wmzwOtiR7-bD"
      },
      "execution_count": 134,
      "outputs": []
    },
    {
      "cell_type": "code",
      "source": [
        "f"
      ],
      "metadata": {
        "colab": {
          "base_uri": "https://localhost:8080/"
        },
        "id": "CyYW4Xwh9uF5",
        "outputId": "c5b91246-4126-4052-e49b-592dcc5fc7cc"
      },
      "execution_count": 135,
      "outputs": [
        {
          "output_type": "execute_result",
          "data": {
            "text/plain": [
              "['c', 'kkk', 'b', 'a', 'x', 't', 'm']"
            ]
          },
          "metadata": {},
          "execution_count": 135
        }
      ]
    },
    {
      "cell_type": "code",
      "source": [
        "# tuple ()\n",
        "# immutable\n",
        "#"
      ],
      "metadata": {
        "id": "0D_qgGq7-SHt"
      },
      "execution_count": null,
      "outputs": []
    },
    {
      "cell_type": "code",
      "source": [
        "t = (1,2,3,4)\n",
        "k = (1,'wsdg',2.87,9)\n",
        "\n",
        "type(k)"
      ],
      "metadata": {
        "colab": {
          "base_uri": "https://localhost:8080/"
        },
        "id": "eeUZITiu-tvg",
        "outputId": "98b70b8c-a9bc-411e-e2b8-84f49476c48e"
      },
      "execution_count": 138,
      "outputs": [
        {
          "output_type": "execute_result",
          "data": {
            "text/plain": [
              "tuple"
            ]
          },
          "metadata": {},
          "execution_count": 138
        }
      ]
    },
    {
      "cell_type": "code",
      "source": [
        "# set {}\n",
        "# no duplicates\n",
        "# not ordered\n",
        "# immutable\n",
        "# sets have union (x | y) intersection (x & y)"
      ],
      "metadata": {
        "id": "qcr_5NIN_P6h"
      },
      "execution_count": null,
      "outputs": []
    },
    {
      "cell_type": "code",
      "source": [
        "a = {'a,',25, 9.0,True}\n",
        "type(a)"
      ],
      "metadata": {
        "colab": {
          "base_uri": "https://localhost:8080/"
        },
        "id": "bMtvRTvR_XCh",
        "outputId": "c8ba8e1a-9928-475c-d34b-6d3e2802270f"
      },
      "execution_count": 141,
      "outputs": [
        {
          "output_type": "execute_result",
          "data": {
            "text/plain": [
              "set"
            ]
          },
          "metadata": {},
          "execution_count": 141
        }
      ]
    },
    {
      "cell_type": "code",
      "source": [
        "a = {0,0,0,1,0}\n"
      ],
      "metadata": {
        "id": "RTQkBmif_fqe"
      },
      "execution_count": 142,
      "outputs": []
    },
    {
      "cell_type": "code",
      "source": [
        "a # no dupes\n"
      ],
      "metadata": {
        "colab": {
          "base_uri": "https://localhost:8080/"
        },
        "id": "uPxvzX9l_fnZ",
        "outputId": "75542d36-66fd-4721-da5b-71a3a6d9e75d"
      },
      "execution_count": 143,
      "outputs": [
        {
          "output_type": "execute_result",
          "data": {
            "text/plain": [
              "{0, 1}"
            ]
          },
          "metadata": {},
          "execution_count": 143
        }
      ]
    },
    {
      "cell_type": "code",
      "source": [
        "x = {1,2,3,4,5}\n",
        "y = {6,7,8,9,1}\n",
        "x & y "
      ],
      "metadata": {
        "colab": {
          "base_uri": "https://localhost:8080/"
        },
        "id": "ixwRznvh_fkZ",
        "outputId": "191eb64a-4bf5-47a5-b187-b67ec0775103"
      },
      "execution_count": 145,
      "outputs": [
        {
          "output_type": "execute_result",
          "data": {
            "text/plain": [
              "{1}"
            ]
          },
          "metadata": {},
          "execution_count": 145
        }
      ]
    },
    {
      "cell_type": "code",
      "source": [
        "x | y"
      ],
      "metadata": {
        "colab": {
          "base_uri": "https://localhost:8080/"
        },
        "id": "l34i9oZu_fhL",
        "outputId": "ac4b8b4a-dada-4fde-aa2b-9394dba1df2c"
      },
      "execution_count": 146,
      "outputs": [
        {
          "output_type": "execute_result",
          "data": {
            "text/plain": [
              "{1, 2, 3, 4, 5, 6, 7, 8, 9}"
            ]
          },
          "metadata": {},
          "execution_count": 146
        }
      ]
    },
    {
      "cell_type": "code",
      "source": [
        "# DICTIONARY - {key1:value1, key2:value2}\n",
        "# mutable"
      ],
      "metadata": {
        "id": "GRK9HEqH_fdz"
      },
      "execution_count": null,
      "outputs": []
    },
    {
      "cell_type": "code",
      "source": [
        "df = {1:'a',2:'b'}"
      ],
      "metadata": {
        "id": "5aaj-Umv_fZ5"
      },
      "execution_count": 147,
      "outputs": []
    },
    {
      "cell_type": "code",
      "source": [
        "car = {'brand':['Suzuki','Hero'],'passings':[3,7,19]}"
      ],
      "metadata": {
        "id": "zv1VrUWK_fWL"
      },
      "execution_count": 149,
      "outputs": []
    },
    {
      "cell_type": "code",
      "source": [
        ""
      ],
      "metadata": {
        "id": "rxOgS-hL_fLj"
      },
      "execution_count": null,
      "outputs": []
    }
  ]
}