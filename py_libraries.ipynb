{
  "nbformat": 4,
  "nbformat_minor": 0,
  "metadata": {
    "colab": {
      "name": "py libraries.ipynb",
      "provenance": [],
      "authorship_tag": "ABX9TyMNvKQEtTafx3fbSE0ngbaR",
      "include_colab_link": true
    },
    "kernelspec": {
      "name": "python3",
      "display_name": "Python 3"
    },
    "language_info": {
      "name": "python"
    }
  },
  "cells": [
    {
      "cell_type": "markdown",
      "metadata": {
        "id": "view-in-github",
        "colab_type": "text"
      },
      "source": [
        "<a href=\"https://colab.research.google.com/github/ayshahibaa/data-science/blob/main/py_libraries.ipynb\" target=\"_parent\"><img src=\"https://colab.research.google.com/assets/colab-badge.svg\" alt=\"Open In Colab\"/></a>"
      ]
    },
    {
      "cell_type": "code",
      "execution_count": null,
      "metadata": {
        "colab": {
          "base_uri": "https://localhost:8080/"
        },
        "id": "8XR2nD4aE3qi",
        "outputId": "c0fbd65d-bf8c-44b5-e837-1978294db5ce"
      },
      "outputs": [
        {
          "output_type": "execute_result",
          "data": {
            "text/plain": [
              "array(4)"
            ]
          },
          "metadata": {},
          "execution_count": 13
        }
      ],
      "source": [
        "import numpy as np\n",
        "a = np.array(4)\n",
        "a"
      ]
    },
    {
      "cell_type": "code",
      "source": [
        "a.ndim #0 dimension (scalar) since no rows, no column \n"
      ],
      "metadata": {
        "colab": {
          "base_uri": "https://localhost:8080/"
        },
        "id": "y7obE62OE9R1",
        "outputId": "a698b68b-309a-4b40-f0fd-2247389c5bc6"
      },
      "execution_count": null,
      "outputs": [
        {
          "output_type": "execute_result",
          "data": {
            "text/plain": [
              "0"
            ]
          },
          "metadata": {},
          "execution_count": 4
        }
      ]
    },
    {
      "cell_type": "code",
      "source": [
        "a.shape #0 rows, 0 columns"
      ],
      "metadata": {
        "colab": {
          "base_uri": "https://localhost:8080/"
        },
        "id": "zQ_-DrF7E9Oe",
        "outputId": "c7ebc28b-ebec-4531-8f5b-68bf29eb1b0d"
      },
      "execution_count": null,
      "outputs": [
        {
          "output_type": "execute_result",
          "data": {
            "text/plain": [
              "()"
            ]
          },
          "metadata": {},
          "execution_count": 6
        }
      ]
    },
    {
      "cell_type": "code",
      "source": [
        "a.size # no. of elements"
      ],
      "metadata": {
        "colab": {
          "base_uri": "https://localhost:8080/"
        },
        "id": "Yd-1ZeyiE9LM",
        "outputId": "b1089fc0-ce37-4e1b-bdb0-0eb7d2c41819"
      },
      "execution_count": null,
      "outputs": [
        {
          "output_type": "execute_result",
          "data": {
            "text/plain": [
              "1"
            ]
          },
          "metadata": {},
          "execution_count": 7
        }
      ]
    },
    {
      "cell_type": "code",
      "source": [
        "b=np.array([1,2,3,4,5])\n",
        "b"
      ],
      "metadata": {
        "colab": {
          "base_uri": "https://localhost:8080/"
        },
        "id": "VEDJUX-LE9IK",
        "outputId": "35860972-d7ab-4b3a-9857-cdd49a2daec5"
      },
      "execution_count": null,
      "outputs": [
        {
          "output_type": "execute_result",
          "data": {
            "text/plain": [
              "array([1, 2, 3, 4, 5])"
            ]
          },
          "metadata": {},
          "execution_count": 14
        }
      ]
    },
    {
      "cell_type": "code",
      "source": [
        "b.ndim # 1 dimension called vector"
      ],
      "metadata": {
        "colab": {
          "base_uri": "https://localhost:8080/"
        },
        "id": "QWCT2eQFE9FO",
        "outputId": "fdd63b07-a2de-4e18-e436-b0ccb5ff2590"
      },
      "execution_count": null,
      "outputs": [
        {
          "output_type": "execute_result",
          "data": {
            "text/plain": [
              "1"
            ]
          },
          "metadata": {},
          "execution_count": 10
        }
      ]
    },
    {
      "cell_type": "code",
      "source": [
        "b.shape # 1 row, 5 entries"
      ],
      "metadata": {
        "colab": {
          "base_uri": "https://localhost:8080/"
        },
        "id": "lTSejCoQE9Bz",
        "outputId": "8f7ddcd2-2dad-46c5-cfbe-24d2ccdac9ee"
      },
      "execution_count": null,
      "outputs": [
        {
          "output_type": "execute_result",
          "data": {
            "text/plain": [
              "(5,)"
            ]
          },
          "metadata": {},
          "execution_count": 15
        }
      ]
    },
    {
      "cell_type": "code",
      "source": [
        "b.size\n"
      ],
      "metadata": {
        "colab": {
          "base_uri": "https://localhost:8080/"
        },
        "id": "Ua9Vbg5DE8-c",
        "outputId": "4a20ab4e-beb0-4cd4-f6c4-3a6602fdcf1c"
      },
      "execution_count": null,
      "outputs": [
        {
          "output_type": "execute_result",
          "data": {
            "text/plain": [
              "5"
            ]
          },
          "metadata": {},
          "execution_count": 16
        }
      ]
    },
    {
      "cell_type": "code",
      "source": [
        "c = np.array([[1,2,3,4],[6,7,8,9]])"
      ],
      "metadata": {
        "id": "vYxojMBVE87D"
      },
      "execution_count": null,
      "outputs": []
    },
    {
      "cell_type": "code",
      "source": [
        "c.shape\n"
      ],
      "metadata": {
        "colab": {
          "base_uri": "https://localhost:8080/"
        },
        "id": "j76pW2PFE837",
        "outputId": "175c816f-a395-4675-b574-73dc9dc48f52"
      },
      "execution_count": null,
      "outputs": [
        {
          "output_type": "execute_result",
          "data": {
            "text/plain": [
              "(2, 4)"
            ]
          },
          "metadata": {},
          "execution_count": 47
        }
      ]
    },
    {
      "cell_type": "code",
      "source": [
        "c.ndim # 2 dimensions called matrix"
      ],
      "metadata": {
        "colab": {
          "base_uri": "https://localhost:8080/"
        },
        "id": "N32LK9_0E80a",
        "outputId": "da8ff135-59db-4ddd-b526-38edfecfae4d"
      },
      "execution_count": null,
      "outputs": [
        {
          "output_type": "execute_result",
          "data": {
            "text/plain": [
              "2"
            ]
          },
          "metadata": {},
          "execution_count": 24
        }
      ]
    },
    {
      "cell_type": "code",
      "source": [
        "c.reshape(4,2) # you can only reshape the existing size 8"
      ],
      "metadata": {
        "colab": {
          "base_uri": "https://localhost:8080/"
        },
        "id": "rY3yVKnXNVk7",
        "outputId": "d91e6d14-8ed6-4816-e94d-c37c0f60af11"
      },
      "execution_count": null,
      "outputs": [
        {
          "output_type": "execute_result",
          "data": {
            "text/plain": [
              "array([[1, 2],\n",
              "       [3, 4],\n",
              "       [6, 7],\n",
              "       [8, 9]])"
            ]
          },
          "metadata": {},
          "execution_count": 49
        }
      ]
    },
    {
      "cell_type": "code",
      "source": [
        "c # value is not saved. \n",
        "# to save, c= c.reshape()"
      ],
      "metadata": {
        "colab": {
          "base_uri": "https://localhost:8080/"
        },
        "id": "37tjBDEVOFHZ",
        "outputId": "ffba4023-0614-4732-f3c6-1d4021a74c6d"
      },
      "execution_count": null,
      "outputs": [
        {
          "output_type": "execute_result",
          "data": {
            "text/plain": [
              "array([[1, 2, 3, 4],\n",
              "       [6, 7, 8, 9]])"
            ]
          },
          "metadata": {},
          "execution_count": 50
        }
      ]
    },
    {
      "cell_type": "code",
      "source": [
        "c= c.reshape(4,2)\n",
        "c"
      ],
      "metadata": {
        "colab": {
          "base_uri": "https://localhost:8080/"
        },
        "id": "v5kfeCEFOQEv",
        "outputId": "024b5cc5-4468-4e02-c778-e6224867465f"
      },
      "execution_count": null,
      "outputs": [
        {
          "output_type": "execute_result",
          "data": {
            "text/plain": [
              "array([[1, 2],\n",
              "       [3, 4],\n",
              "       [6, 7],\n",
              "       [8, 9]])"
            ]
          },
          "metadata": {},
          "execution_count": 52
        }
      ]
    },
    {
      "cell_type": "code",
      "source": [
        ""
      ],
      "metadata": {
        "id": "xDdJbPJRZYVd"
      },
      "execution_count": null,
      "outputs": []
    },
    {
      "cell_type": "code",
      "source": [
        "# np.random.randint - generation of random array"
      ],
      "metadata": {
        "id": "2Yb_j47KZIac"
      },
      "execution_count": null,
      "outputs": []
    },
    {
      "cell_type": "code",
      "source": [
        "d = np.random.randint(0,10,10) # random values generation range = 0,10 and no =10\n",
        "\n",
        "d  # value changes at every interpretation."
      ],
      "metadata": {
        "colab": {
          "base_uri": "https://localhost:8080/"
        },
        "id": "xM4qjUxuE8xZ",
        "outputId": "926f983c-345e-41ad-d1df-27f28ba33673"
      },
      "execution_count": null,
      "outputs": [
        {
          "output_type": "execute_result",
          "data": {
            "text/plain": [
              "array([7, 9, 3, 5, 2, 4, 7, 6, 8, 8])"
            ]
          },
          "metadata": {},
          "execution_count": 33
        }
      ]
    },
    {
      "cell_type": "code",
      "source": [
        "np.random.seed(0) # make the generated values fixed so that re intepretation will give same array\n",
        "e = np.random.randint(0,12,5)\n",
        "e"
      ],
      "metadata": {
        "colab": {
          "base_uri": "https://localhost:8080/"
        },
        "id": "dW3U00dVE8uN",
        "outputId": "7963b579-a23f-4adb-874d-fa446fdc630c"
      },
      "execution_count": null,
      "outputs": [
        {
          "output_type": "execute_result",
          "data": {
            "text/plain": [
              "array([ 5,  0,  3, 11,  3])"
            ]
          },
          "metadata": {},
          "execution_count": 34
        }
      ]
    },
    {
      "cell_type": "code",
      "source": [
        "np.random.seed(1) # seed(1) will always store same array\n",
        "e = np.random.randint(0,12,5)\n",
        "e"
      ],
      "metadata": {
        "colab": {
          "base_uri": "https://localhost:8080/"
        },
        "outputId": "bb465877-444c-40d5-fe82-cfc40998e391",
        "id": "0N6C8vSHLeU-"
      },
      "execution_count": null,
      "outputs": [
        {
          "output_type": "execute_result",
          "data": {
            "text/plain": [
              "array([ 5, 11,  8,  9, 11])"
            ]
          },
          "metadata": {},
          "execution_count": 38
        }
      ]
    },
    {
      "cell_type": "code",
      "source": [
        "np.random.seed() # the values will change"
      ],
      "metadata": {
        "id": "-E3CE55wE8nm"
      },
      "execution_count": null,
      "outputs": []
    },
    {
      "cell_type": "code",
      "source": [
        "np.random.seed(2) # seed(2) will alwat=ys store same array\n",
        "e = np.random.randint(0,12,5)\n",
        "e"
      ],
      "metadata": {
        "colab": {
          "base_uri": "https://localhost:8080/"
        },
        "outputId": "0a57fedc-5e29-42a7-f71a-aaa002f0868c",
        "id": "TQ5HZ8LsLu4n"
      },
      "execution_count": null,
      "outputs": [
        {
          "output_type": "execute_result",
          "data": {
            "text/plain": [
              "array([ 8,  8,  6, 11,  2])"
            ]
          },
          "metadata": {},
          "execution_count": 39
        }
      ]
    },
    {
      "cell_type": "code",
      "source": [
        "m = np.random.randint(0,1000,50)\n",
        "m"
      ],
      "metadata": {
        "colab": {
          "base_uri": "https://localhost:8080/"
        },
        "id": "4veEYNadE8kc",
        "outputId": "68d61e05-0661-42fd-8491-1097c2a65957"
      },
      "execution_count": null,
      "outputs": [
        {
          "output_type": "execute_result",
          "data": {
            "text/plain": [
              "array([807, 942, 648, 434, 493, 506, 271, 745, 493, 392, 759, 401, 918,\n",
              "       760, 506, 885, 585, 697, 873, 366, 764, 474, 446,  83,  96, 555,\n",
              "       800, 538, 498, 904, 588, 766, 138, 808,  34, 316, 649, 758, 997,\n",
              "       838,  86, 454,  19,  56, 466, 385, 324, 680,  81,  61])"
            ]
          },
          "metadata": {},
          "execution_count": 41
        }
      ]
    },
    {
      "cell_type": "code",
      "source": [
        ""
      ],
      "metadata": {
        "id": "3gUOQb_7Zbb_"
      },
      "execution_count": null,
      "outputs": []
    },
    {
      "cell_type": "code",
      "source": [
        "# open cv\n",
        "#in opencv, to create white/black image use np.ones() or np.zeros()\n",
        "# value decides the intensity of color for numpy values of range 0 to 255\n",
        "'''\n",
        "B, G, R\n",
        "(0,0,0) - BLACK\n",
        "(255,255,255) WHITE\n",
        "(255,0,0) BLUE\n",
        "(0,255,0) GREEN\n",
        "(0,0,255) RED\n",
        "(0,255,255) RED\n",
        "'''\n"
      ],
      "metadata": {
        "id": "OWzoGho1ZDeC"
      },
      "execution_count": null,
      "outputs": []
    },
    {
      "cell_type": "code",
      "source": [
        "x= np.ones(5) # creates array with element 1 only, \n",
        "              # indicates HIGH state value of 255 and color for ones is white\n",
        "x"
      ],
      "metadata": {
        "colab": {
          "base_uri": "https://localhost:8080/"
        },
        "id": "2Vg3Dd8qE8hb",
        "outputId": "8ba74d38-8463-44af-8361-a68a96428f5e"
      },
      "execution_count": null,
      "outputs": [
        {
          "output_type": "execute_result",
          "data": {
            "text/plain": [
              "array([1., 1., 1., 1., 1.])"
            ]
          },
          "metadata": {},
          "execution_count": 56
        }
      ]
    },
    {
      "cell_type": "code",
      "source": [
        "y = np.zeros(22)  # creates array with element 0 only, \n",
        "                  # indicates low state value of 0, color is black\n",
        "y"
      ],
      "metadata": {
        "colab": {
          "base_uri": "https://localhost:8080/"
        },
        "id": "xU_r0wPGE8eM",
        "outputId": "8bcbb422-0d15-4b9e-d405-844c1c7de36a"
      },
      "execution_count": null,
      "outputs": [
        {
          "output_type": "execute_result",
          "data": {
            "text/plain": [
              "array([0., 0., 0., 0., 0., 0., 0., 0., 0., 0., 0., 0., 0., 0., 0., 0., 0.,\n",
              "       0., 0., 0., 0., 0.])"
            ]
          },
          "metadata": {},
          "execution_count": 57
        }
      ]
    },
    {
      "cell_type": "code",
      "source": [
        ""
      ],
      "metadata": {
        "id": "ARR0Hfp7a_vD"
      },
      "execution_count": null,
      "outputs": []
    },
    {
      "cell_type": "code",
      "source": [
        "# MATPLOTLIB - plotting graphs, plot, etc\n",
        "'''\n",
        "RGB FORM\n",
        "color mixing using numpy is allowed.\n",
        "'''"
      ],
      "metadata": {
        "id": "ieteku8WE8bP"
      },
      "execution_count": null,
      "outputs": []
    },
    {
      "cell_type": "code",
      "source": [
        "import matplotlib.pyplot as plt\n",
        "import numpy as np\n",
        "i = np.array([[[0,180,0]]]) # single color using three [[[]]]\n",
        "plt.imshow(i)"
      ],
      "metadata": {
        "colab": {
          "base_uri": "https://localhost:8080/",
          "height": 282
        },
        "id": "_1BcXmpkE8Xv",
        "outputId": "78fc44b7-9de5-4f01-bda8-aa610705b08c"
      },
      "execution_count": null,
      "outputs": [
        {
          "output_type": "execute_result",
          "data": {
            "text/plain": [
              "<matplotlib.image.AxesImage at 0x7fac62797310>"
            ]
          },
          "metadata": {},
          "execution_count": 72
        },
        {
          "output_type": "display_data",
          "data": {
            "text/plain": [
              "<Figure size 432x288 with 1 Axes>"
            ],
            "image/png": "[encoded data removed]"
          },
          "metadata": {
            "needs_background": "light"
          }
        }
      ]
    },
    {
      "cell_type": "code",
      "source": [
        "palette = np.array([[0,180,0],[12,30,255],[26,134,90]]) #multiple color using two [[]]\n",
        "i = np.array([[0,1,2]])\n",
        "\n",
        "plt.imshow(palette[i])"
      ],
      "metadata": {
        "colab": {
          "base_uri": "https://localhost:8080/",
          "height": 177
        },
        "id": "qZz9LVw4XVU4",
        "outputId": "a53634d2-063f-4e74-8a66-bf6d280c46ed"
      },
      "execution_count": null,
      "outputs": [
        {
          "output_type": "execute_result",
          "data": {
            "text/plain": [
              "<matplotlib.image.AxesImage at 0x7fac628ddfd0>"
            ]
          },
          "metadata": {},
          "execution_count": 69
        },
        {
          "output_type": "display_data",
          "data": {
            "text/plain": [
              "<Figure size 432x288 with 1 Axes>"
            ],
            "image/png": "[encoded data removed]"
          },
          "metadata": {
            "needs_background": "light"
          }
        }
      ]
    },
    {
      "cell_type": "code",
      "source": [
        ""
      ],
      "metadata": {
        "id": "U58YT0qafx3I"
      },
      "execution_count": null,
      "outputs": []
    },
    {
      "cell_type": "code",
      "source": [
        "#LINE GRAPH "
      ],
      "metadata": {
        "id": "EwdAci-pXVQz"
      },
      "execution_count": null,
      "outputs": []
    },
    {
      "cell_type": "code",
      "source": [
        "import matplotlib.pyplot as plt\n",
        "x = [2,4,5,8]\n",
        "y = [1,4,8,9]\n",
        "plt.plot(x,y,c='gold',marker='*')\n",
        "plt.title('Line Graph')\n",
        "plt.xlabel('X Axis',fontsize=10)\n",
        "plt.ylabel('Y Axis',fontsize=10)"
      ],
      "metadata": {
        "id": "69iQKFrTXVNb",
        "colab": {
          "base_uri": "https://localhost:8080/",
          "height": 312
        },
        "outputId": "cf3943d5-8137-4f3d-d005-b217f3eeb595"
      },
      "execution_count": 5,
      "outputs": [
        {
          "output_type": "execute_result",
          "data": {
            "text/plain": [
              "Text(0, 0.5, 'Y Axis')"
            ]
          },
          "metadata": {},
          "execution_count": 5
        },
        {
          "output_type": "display_data",
          "data": {
            "text/plain": [
              "<Figure size 432x288 with 1 Axes>"
            ],
            "image/png": "[encoded data removed]"
          },
          "metadata": {
            "needs_background": "light"
          }
        }
      ]
    },
    {
      "cell_type": "code",
      "source": [
        ""
      ],
      "metadata": {
        "id": "E_vUyrwhXVJx"
      },
      "execution_count": null,
      "outputs": []
    },
    {
      "cell_type": "code",
      "source": [
        ""
      ],
      "metadata": {
        "id": "XrnnaqKMXVF1"
      },
      "execution_count": null,
      "outputs": []
    }
  ]
}